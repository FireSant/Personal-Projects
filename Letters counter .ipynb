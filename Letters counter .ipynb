{
  "nbformat": 4,
  "nbformat_minor": 0,
  "metadata": {
    "colab": {
      "name": "Untitled3.ipynb",
      "provenance": [],
      "collapsed_sections": [],
      "authorship_tag": "ABX9TyPnoRKHL0vGnbz5Z7X4sRV7",
      "include_colab_link": true
    },
    "kernelspec": {
      "name": "python3",
      "display_name": "Python 3"
    },
    "language_info": {
      "name": "python"
    }
  },
  "cells": [
    {
      "cell_type": "markdown",
      "metadata": {
        "id": "view-in-github",
        "colab_type": "text"
      },
      "source": [
        "<a href=\"https://colab.research.google.com/github/FireSant/Personal-Projects/blob/main/Letters%20counter%20.ipynb\" target=\"_parent\"><img src=\"https://colab.research.google.com/assets/colab-badge.svg\" alt=\"Open In Colab\"/></a>"
      ]
    },
    {
      "cell_type": "code",
      "execution_count": 9,
      "metadata": {
        "id": "gYh6WHj-3Nh6",
        "colab": {
          "base_uri": "https://localhost:8080/"
        },
        "outputId": "5abfc0d1-b946-4218-8b07-c36d8621117b"
      },
      "outputs": [
        {
          "name": "stdout",
          "output_type": "stream",
          "text": [
            "Write  sentence: Hola\n"
          ]
        },
        {
          "output_type": "execute_result",
          "data": {
            "text/plain": [
              "{'H': 1, 'a': 1, 'l': 1, 'o': 1}"
            ]
          },
          "metadata": {},
          "execution_count": 9
        }
      ],
      "source": [
        "import string\n",
        "\n",
        "sentence=str(input(\"Write  sentence: \"))\n",
        "def counter(sentence): #Count amount of letters in a sentence\n",
        "\n",
        "  alphabet=string.ascii_letters\n",
        "  count_letters={}\n",
        "\n",
        "  for letter in sentence:\n",
        "    if letter in alphabet:\n",
        "        if letter in count_letters.keys():\n",
        "            count_letters[letter] += 1\n",
        "        else:\n",
        "            count_letters[letter] = 1\n",
        "\n",
        "  return (count_letters)\n",
        "\n",
        "counter(sentence)"
      ]
    }
  ]
}