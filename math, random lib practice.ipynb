{
  "nbformat": 4,
  "nbformat_minor": 0,
  "metadata": {
    "colab": {
      "name": "Untitled3.ipynb",
      "provenance": [],
      "collapsed_sections": [],
      "authorship_tag": "ABX9TyM/fGfyjR2wb3JiXPIJSlzL",
      "include_colab_link": true
    },
    "kernelspec": {
      "name": "python3",
      "display_name": "Python 3"
    },
    "language_info": {
      "name": "python"
    }
  },
  "cells": [
    {
      "cell_type": "markdown",
      "metadata": {
        "id": "view-in-github",
        "colab_type": "text"
      },
      "source": [
        "<a href=\"https://colab.research.google.com/github/FireSant/Personal-Projects/blob/main/math%2C%20random%20lib%20practice.ipynb\" target=\"_parent\"><img src=\"https://colab.research.google.com/assets/colab-badge.svg\" alt=\"Open In Colab\"/></a>"
      ]
    },
    {
      "cell_type": "code",
      "execution_count": null,
      "metadata": {
        "id": "gYh6WHj-3Nh6",
        "colab": {
          "base_uri": "https://localhost:8080/"
        },
        "outputId": "2e190d90-86ef-4da4-c443-097a26bdafe5"
      },
      "outputs": [
        {
          "output_type": "stream",
          "name": "stdout",
          "text": [
            "1.4142135623730951\n",
            "False\n",
            "-0.006198163397448275\n"
          ]
        }
      ],
      "source": [
        "import random, math\n",
        "\n",
        "\n",
        "pi4=(math.pi / 4)\n",
        "\n",
        "random.seed(1)\n",
        "def rand():\n",
        "  return random.uniform(-1,1)\n",
        "rand()\n",
        "\n",
        "def distance(x, y):\n",
        "    \"\"\"\n",
        "        Given x and y, find their distance.\n",
        "        This is given by sqrt(sum((x-y)**2)).\n",
        "    \"\"\"\n",
        "    if len(x) != len(y):\n",
        "        return \"x and y do not have the same length!\"\n",
        "    else:\n",
        "        square_differences = [(x[i]-y[i])**2 for i in range(len(x))]\n",
        "        return math.sqrt(sum(square_differences))\n",
        "\n",
        "print(distance((0,0),(1,1)))\n",
        "\n",
        "\n",
        "def in_circle(x, origin = [0,0]):\n",
        "    if len(x) != 2:\n",
        "        return \"x is not two-dimensional!\"\n",
        "    elif distance(x, origin) < 1:\n",
        "        return True\n",
        "    else:\n",
        "        return False\n",
        "\n",
        "print(in_circle((1,1)))\n",
        "\n",
        "R = 10000\n",
        "x = []\n",
        "inside = []\n",
        "for i in range(R):\n",
        "    point = [rand(), rand()]\n",
        "    x.append(point)\n",
        "    inside.append(in_circle(point))\n",
        "\n",
        "print(((sum(inside) / R))-pi4)\n",
        "\n",
        "\n",
        "\n"
      ]
    }
  ]
}