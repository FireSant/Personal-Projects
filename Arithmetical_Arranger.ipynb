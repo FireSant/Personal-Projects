{
  "nbformat": 4,
  "nbformat_minor": 0,
  "metadata": {
    "colab": {
      "name": "Arithmetical Arranger.ipynb",
      "provenance": [],
      "collapsed_sections": [],
      "authorship_tag": "ABX9TyMSwRzhl7NZXiOgZVN1eBkt",
      "include_colab_link": true
    },
    "kernelspec": {
      "name": "python3",
      "display_name": "Python 3"
    },
    "language_info": {
      "name": "python"
    }
  },
  "cells": [
    {
      "cell_type": "markdown",
      "metadata": {
        "id": "view-in-github",
        "colab_type": "text"
      },
      "source": [
        "<a href=\"https://colab.research.google.com/github/FireSant/Personal-Projects/blob/main/Arithmetical_Arranger.ipynb\" target=\"_parent\"><img src=\"https://colab.research.google.com/assets/colab-badge.svg\" alt=\"Open In Colab\"/></a>"
      ]
    },
    {
      "cell_type": "code",
      "execution_count": null,
      "metadata": {
        "id": "1vznLEg8h0_q"
      },
      "outputs": [],
      "source": [
        "  import re\n",
        "def arithmetic_arranger(problems):\n",
        "  \n",
        "  if len(problems)>5:             #error 1\n",
        "    arranger_problems=(\"Error: Too many problems.\")\n",
        "    return arranger_problems\n",
        "\n",
        "  for problem in problems:        #error2\n",
        "    if \"/\" in problem or \"*\" in problem:\n",
        "      arranger_problems=\"Error: Operator must be '+' or '-'.\"\n",
        "      return arranger_problems\n",
        "    if len(problem[0]) > 5 or len(problem[2]) >5:\n",
        "      arranger_problems=\"Error: Error: Numbers cannot be more than four digits.\"\n",
        "    \n",
        "\n",
        "  return \n",
        "\n",
        "\n",
        "arithmetic_arranger([\"484405 - 99\", \"32  698\", \"3801 - 2\", \"45 + 43\", \"123 + 49\"])\n"
      ]
    },
    {
      "cell_type": "code",
      "source": [
        "a=([\"4844 - 99\", \"32  698\", \"3801 - 2\", \"45 + 43\", \"123 + 49\"])\n",
        "for s in a:\n",
        "  \n",
        "    if len(s.split()[0]) or len(s.split()[2]) > 5:\n",
        "      print(\"Error: Numbers cannot be more than four digits.\")"
      ],
      "metadata": {
        "colab": {
          "base_uri": "https://localhost:8080/"
        },
        "id": "TtJiqxzG_lDy",
        "outputId": "7439a1ef-9ced-4427-f56e-ff3d7da1fff6"
      },
      "execution_count": null,
      "outputs": [
        {
          "output_type": "stream",
          "name": "stdout",
          "text": [
            "Error: Numbers cannot be more than four digits.\n",
            "Error: Numbers cannot be more than four digits.\n",
            "Error: Numbers cannot be more than four digits.\n",
            "Error: Numbers cannot be more than four digits.\n",
            "Error: Numbers cannot be more than four digits.\n"
          ]
        }
      ]
    },
    {
      "cell_type": "code",
      "source": [
        "def arithmetic_arranger(problems, ans = False):\n",
        "  arranged_problems = \"\"\n",
        "\n",
        "  if len(problems)>5:\n",
        "    arranged_problems = \"Error: Too many problems.\"\n",
        "    return arranged_problems\n",
        "  \n",
        "  i = 0\n",
        "  d = dict()\n",
        "  l = list()\n",
        "  for s in problems:\n",
        "    s = s.split()\n",
        "    #print(s)\n",
        "    if s[1] != '+' and s[1] != '-':\n",
        "      arranged_problems = \"Error: Operator must be '+' or '-'.\"\n",
        "      return arranged_problems\n",
        "    \n",
        "    if len(s[0])>4 or len(s[2])>4:\n",
        "      arranged_problems = \"Error: Numbers cannot be more than four digits.\"\n",
        "      return arranged_problems\n",
        "\n",
        "    try:\n",
        "      al = len(s[0])\n",
        "      bl = len(s[2])\n",
        "      a = int(s[0])\n",
        "      b = int(s[2])\n",
        "      if s[1] == '+':\n",
        "        c = a + b\n",
        "      else:\n",
        "        c = a - b\n",
        "      sp = max(al, bl) \n",
        "      l = [al, a, bl, b, c, s[1], sp]\n",
        "      d[i] = l\n",
        "      i = i + 1\n",
        "\n",
        "    except:\n",
        "      arranged_problems = \"Error: Numbers must only contain digits.\"\n",
        "      return arranged_problems\n",
        "  j = 0\n",
        "  #print(d)\n",
        "  for k,v in d.items():\n",
        "    space = v[6] - v[0]\n",
        "    while(space):\n",
        "      arranged_problems = arranged_problems + \" \"\n",
        "      space = space - 1\n",
        "    arranged_problems = arranged_problems + str(v[1])\n",
        "    if j < len(problems)-1:\n",
        "      for q in range(4):\n",
        "        arranged_problems = arranged_problems + \" \"\n",
        "    j = j + 1\n",
        "  \n",
        "  arranged_problems = arranged_problems + '\\n'\n",
        "\n",
        "  j = 0\n",
        "  for k,v in d.items():\n",
        "    arranged_problems = arranged_problems + v[5] + \" \"\n",
        "    if v[2] < v[0]:\n",
        "      space = v[0] - v[2]\n",
        "      while space:\n",
        "        arranged_problems = arranged_problems + \" \"\n",
        "        space = space - 1\n",
        "    arranged_problems = arranged_problems + str(v[3])\n",
        "    if j < len(problems)-1:\n",
        "      for q in range(4):\n",
        "        arranged_problems = arranged_problems + \" \"\n",
        "    j = j + 1\n",
        "  \n",
        "  arranged_problems = arranged_problems + '\\n'\n",
        "  \n",
        "  j = 0\n",
        "  for k,v in d.items():\n",
        "    dash = v[6]\n",
        "    while dash:\n",
        "      arranged_problems = arranged_problems + '-'\n",
        "      dash = dash - 1\n",
        "    if j < len(problems)-1:\n",
        "      for q in range(4):\n",
        "        arranged_problems = arranged_problems + \" \"\n",
        "    j = j + 1\n",
        "\n",
        "  if ans == True:\n",
        "    arranged_problems = arranged_problems + '\\n'\n",
        "    j = 0\n",
        "    for k,v in d.items():\n",
        "      cl = len(str(v[4]))\n",
        "      space = v[6] - cl\n",
        "      while space:\n",
        "        arranged_problems = arranged_problems + \" \"\n",
        "        space = space - 1\n",
        "      arranged_problems  = arranged_problems + str(v[4])\n",
        "      if j < len(problems)-1:\n",
        "        for q in range(4):\n",
        "          arranged_problems = arranged_problems + \" \"\n",
        "      j = j + 1\n",
        "\n",
        "  print(arranged_problems)\n",
        "\n",
        "  return arranged_problems\n",
        "arithmetic_arranger([\"3 + 12\", \"1000 + 9\", \"8 + 3\"])"
      ],
      "metadata": {
        "colab": {
          "base_uri": "https://localhost:8080/",
          "height": 35
        },
        "id": "XrfdhUGjMe3X",
        "outputId": "4f341c0a-058a-41b9-be30-9b989a91816c"
      },
      "execution_count": null,
      "outputs": [
        {
          "output_type": "execute_result",
          "data": {
            "text/plain": [
              "'Error: Numbers must only contain digits.'"
            ],
            "application/vnd.google.colaboratory.intrinsic+json": {
              "type": "string"
            }
          },
          "metadata": {},
          "execution_count": 29
        }
      ]
    }
  ]
}